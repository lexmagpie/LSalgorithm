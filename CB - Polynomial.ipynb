{
 "cells": [
  {
   "cell_type": "code",
   "execution_count": 1,
   "metadata": {},
   "outputs": [],
   "source": [
    "import numpy as np\n",
    "import pandas as pd\n",
    "import matplotlib.pyplot as plt\n",
    "from random import normalvariate\n",
    "\n",
    "from sklearn.preprocessing import StandardScaler \n",
    "from sklearn.neural_network import MLPRegressor\n",
    "\n",
    "import warnings\n",
    "warnings.simplefilter('ignore')"
   ]
  },
  {
   "cell_type": "code",
   "execution_count": 2,
   "metadata": {},
   "outputs": [],
   "source": [
    "def BGM(curve0):\n",
    "    curve_run = curve0.copy()\n",
    "    curve = [curve0.copy()]\n",
    "    for t in range(0, 4):\n",
    "        y = normalvariate(0,1)\n",
    "        for i in range(len(curve_run)-1, t, -1):\n",
    "            A = volY**2*sum( [e/(1+e) for e in curve_run[t+1:i+1]] )\n",
    "            curve_run[i] *= np.exp((A-volY**2/2)+volY*y)\n",
    "            i+=1\n",
    "        curve += [curve_run.copy()]\n",
    "        t += 1\n",
    "    \n",
    "    return curve"
   ]
  },
  {
   "cell_type": "code",
   "execution_count": 3,
   "metadata": {},
   "outputs": [],
   "source": [
    "def bond(ti, curve):\n",
    "    df = np.zeros(T)\n",
    "    b = 0\n",
    "    for i in range(0, T-ti):\n",
    "        df[ti+i] = 1/(1+curve[ti+i])\n",
    "        DF = np.prod(df[ti:ti+1+i])\n",
    "        b += C[ti+i]*N*DF\n",
    "        i += 1\n",
    "        \n",
    "    b += N*np.prod(df[ti:])\n",
    "    return b"
   ]
  },
  {
   "cell_type": "code",
   "execution_count": 4,
   "metadata": {},
   "outputs": [],
   "source": [
    "def MC(n, curve0):\n",
    "    bonds = []\n",
    "    rates = []\n",
    "    for i in range(n):\n",
    "        new_curve = BGM(curve0)\n",
    "        rates += [[0]+new_curve[4]]\n",
    "        bonds += [[bond(0, new_curve[0]),\n",
    "                   bond(1, new_curve[1]),\n",
    "                   bond(2, new_curve[2]),\n",
    "                   bond(3, new_curve[3]),\n",
    "                   bond(4, new_curve[4])]]\n",
    "    \n",
    "    dfs = 1/(1+np.array(rates))\n",
    "    return np.array(bonds).T, np.array(rates).T, np.array(dfs).T"
   ]
  },
  {
   "cell_type": "code",
   "execution_count": 5,
   "metadata": {},
   "outputs": [],
   "source": [
    "N = 100 # notional\n",
    "T = 5 # number of years in total\n",
    "volY = 0.10 # volatility of the zero curve\n",
    "K = 101 # strike price"
   ]
  },
  {
   "cell_type": "code",
   "execution_count": 6,
   "metadata": {},
   "outputs": [],
   "source": [
    "n = 10**5 # number of MC simulations"
   ]
  },
  {
   "cell_type": "raw",
   "metadata": {},
   "source": [
    "# the first small flat curve => a huge weight on the first \n",
    "C = [0.03, 0.04, 0.05, 0.06, 0.06] # coupons\n",
    "y_curve = [0.03, 0.03, 0.03, 0.03, 0.03] # zero curve w/ discrete compounding"
   ]
  },
  {
   "cell_type": "raw",
   "metadata": {},
   "source": [
    "# the second small flat curve => the weight is distributed among the first two dates\n",
    "C = [0.03, 0.04, 0.05, 0.06, 0.06] # coupons\n",
    "y_curve = [0.04, 0.04, 0.04, 0.04, 0.04] # zero curve w/ discrete compounding"
   ]
  },
  {
   "cell_type": "raw",
   "metadata": {},
   "source": [
    "# the third small flat curve => the weight is distributed among the second two dates\n",
    "C = [0.03, 0.04, 0.05, 0.06, 0.06] # coupons\n",
    "y_curve = [0.05, 0.05, 0.05, 0.05, 0.05] # zero curve w/ discrete compounding"
   ]
  },
  {
   "cell_type": "raw",
   "metadata": {},
   "source": [
    "# the biggest flat curve => a huge weight on the first penultimate\n",
    "C = [0.03, 0.04, 0.05, 0.06, 0.06] # coupons\n",
    "y_curve = [0.06, 0.06, 0.06, 0.06, 0.06] # zero curve w/ discrete compounding"
   ]
  },
  {
   "cell_type": "code",
   "execution_count": 7,
   "metadata": {},
   "outputs": [],
   "source": [
    "# contango => evenly distributed among exercise dates\n",
    "C = [0.03, 0.04, 0.05, 0.06, 0.06] # coupons\n",
    "y_curve = [0.029, 0.036, 0.041, 0.044, 0.045] # zero curve w/ discrete compounding"
   ]
  },
  {
   "cell_type": "raw",
   "metadata": {},
   "source": [
    "# backwardation => a huge weight on the second \n",
    "C = [0.03, 0.04, 0.05, 0.06, 0.06] # coupons\n",
    "y_curve = [0.060, 0.054, 0.049, 0.046, 0.045] # zero curve w/ discrete compounding"
   ]
  },
  {
   "cell_type": "code",
   "execution_count": 8,
   "metadata": {},
   "outputs": [
    {
     "name": "stdout",
     "output_type": "stream",
     "text": [
      "The forward curve derived from the zero curve given: [0.029 0.043 0.051 0.053 0.049]\n"
     ]
    }
   ],
   "source": [
    "curve0 = [y_curve[0]] + [ ( (1+y_curve[i+1])**(i+2) / (1+y_curve[i])**(i+1) )**(1/((i+2)-(i+1))) -1 for i in range(len(y_curve)-1)]\n",
    "print('The forward curve derived from the zero curve given:', np.around(curve0, 3))"
   ]
  },
  {
   "cell_type": "raw",
   "metadata": {},
   "source": [
    "f=plt.figure(figsize = [6, 4])\n",
    "plt.plot(range(1,6), [4., 4., 4., 4., 4.], label='Forward curve', marker='o', markersize=3, color='g')\n",
    "plt.plot(range(1,6), [4., 4., 4., 4., 4.], label='Zero curve', marker='o', markersize=3, color='r')"
   ]
  },
  {
   "cell_type": "code",
   "execution_count": 9,
   "metadata": {},
   "outputs": [],
   "source": [
    "plt.style.use('seaborn')"
   ]
  },
  {
   "cell_type": "code",
   "execution_count": 10,
   "metadata": {},
   "outputs": [
    {
     "data": {
      "text/plain": [
       "<matplotlib.legend.Legend at 0x7fe511e35d10>"
      ]
     },
     "execution_count": 10,
     "metadata": {},
     "output_type": "execute_result"
    },
    {
     "data": {
      "image/png": "[encoded data removed]",
      "text/plain": [
       "<Figure size 432x288 with 1 Axes>"
      ]
     },
     "metadata": {},
     "output_type": "display_data"
    }
   ],
   "source": [
    "f=plt.figure(figsize = [6, 4])\n",
    "x1 = range(1,5)\n",
    "#plt.plot(x, 100*np.array(curve0[1:]), label='Forward curve', marker='o', markersize=5)#, color='g')\n",
    "#plt.plot(x, 100*np.array(y_curve[1:]), label='Zero curve', marker='o', markersize=5)#, color='r')\n",
    "#plt.plot(x, 100*np.array(C[1:]), label='Coupon curve', marker='o', markersize=5)#, color='r')\n",
    "x = range(1,6)\n",
    "plt.plot(x, 100*np.array(curve0), label='Forward curve', marker='o', markersize=5)#, color='g')\n",
    "plt.plot(x, 100*np.array(y_curve), label='Zero curve', marker='o', markersize=5)#, color='r')\n",
    "plt.plot(x, 100*np.array(C), label='Coupon curve', marker='o', markersize=5)#, color='r')\n",
    "#plt.title('Zero and Forward Curves')\n",
    "plt.xlabel('Years')\n",
    "plt.ylabel('%')\n",
    "plt.xticks(x)\n",
    "plt.margins(y=0.8)\n",
    "plt.legend()"
   ]
  },
  {
   "cell_type": "raw",
   "metadata": {},
   "source": [
    "f.savefig(\"ex_rates.pdf\", bbox_inches='tight')\n",
    "#f.savefig(\"cont.pdf\", bbox_inches='tight')\n",
    "#f.savefig(\"backward.pdf\", bbox_inches='tight')\n",
    "#f.savefig(\"flat.pdf\", bbox_inches='tight')"
   ]
  },
  {
   "cell_type": "code",
   "execution_count": null,
   "metadata": {},
   "outputs": [],
   "source": [
    "mc = MC(n, curve0)\n",
    "paths, rates, dfs = mc[0], mc[1], mc[2]"
   ]
  },
  {
   "cell_type": "code",
   "execution_count": 48,
   "metadata": {},
   "outputs": [
    {
     "name": "stdout",
     "output_type": "stream",
     "text": [
      "500000\n",
      "(500000, 6)\n",
      "(500000, 6)\n"
     ]
    }
   ],
   "source": [
    "a = int(n*0.5)\n",
    "print(a)\n",
    "print(rates.T[:a].shape)\n",
    "print(rates.T[a:].shape)\n",
    "\n",
    "rates_is, rates_oos = paths.T[:a].T, paths.T[a:].T\n",
    "paths_is, paths_oos = paths.T[:a].T, paths.T[a:].T\n",
    "dfs_is, dfs_oos = dfs.T[:a].T, dfs.T[a:].T"
   ]
  },
  {
   "cell_type": "code",
   "execution_count": 49,
   "metadata": {},
   "outputs": [],
   "source": [
    "paths0, rates0, dfs0 = paths.copy(), rates.copy(), dfs.copy()"
   ]
  },
  {
   "cell_type": "code",
   "execution_count": 50,
   "metadata": {},
   "outputs": [
    {
     "ename": "ValueError",
     "evalue": "could not broadcast input array from shape (700000) into shape (1000000)",
     "output_type": "error",
     "traceback": [
      "\u001b[0;31m---------------------------------------------------------------------------\u001b[0m",
      "\u001b[0;31mValueError\u001b[0m                                Traceback (most recent call last)",
      "\u001b[0;32m<ipython-input-50-8d1d9fd5f807>\u001b[0m in \u001b[0;36m<module>\u001b[0;34m\u001b[0m\n\u001b[1;32m      2\u001b[0m \u001b[0;34m\u001b[0m\u001b[0m\n\u001b[1;32m      3\u001b[0m \u001b[0mV\u001b[0m \u001b[0;34m=\u001b[0m \u001b[0mnp\u001b[0m\u001b[0;34m.\u001b[0m\u001b[0mzeros\u001b[0m\u001b[0;34m(\u001b[0m\u001b[0mshape\u001b[0m\u001b[0;34m=\u001b[0m\u001b[0;34m(\u001b[0m\u001b[0mT\u001b[0m\u001b[0;34m,\u001b[0m\u001b[0mn\u001b[0m\u001b[0;34m)\u001b[0m\u001b[0;34m)\u001b[0m\u001b[0;34m\u001b[0m\u001b[0;34m\u001b[0m\u001b[0m\n\u001b[0;32m----> 4\u001b[0;31m \u001b[0mV\u001b[0m\u001b[0;34m[\u001b[0m\u001b[0;36m4\u001b[0m\u001b[0;34m]\u001b[0m \u001b[0;34m=\u001b[0m \u001b[0mnp\u001b[0m\u001b[0;34m.\u001b[0m\u001b[0mwhere\u001b[0m\u001b[0;34m(\u001b[0m\u001b[0mpaths\u001b[0m\u001b[0;34m[\u001b[0m\u001b[0;36m4\u001b[0m\u001b[0;34m]\u001b[0m\u001b[0;34m>\u001b[0m\u001b[0mK\u001b[0m\u001b[0;34m,\u001b[0m \u001b[0mpaths\u001b[0m\u001b[0;34m[\u001b[0m\u001b[0;36m4\u001b[0m\u001b[0;34m]\u001b[0m\u001b[0;34m-\u001b[0m\u001b[0mK\u001b[0m\u001b[0;34m,\u001b[0m \u001b[0;36m0\u001b[0m\u001b[0;34m)\u001b[0m\u001b[0;34m\u001b[0m\u001b[0;34m\u001b[0m\u001b[0m\n\u001b[0m",
      "\u001b[0;31mValueError\u001b[0m: could not broadcast input array from shape (700000) into shape (1000000)"
     ]
    }
   ],
   "source": [
    "# YEAR 4\n",
    "\n",
    "V = np.zeros(shape=(T,n))\n",
    "V[4] = np.where(paths[4]>K, paths[4]-K, 0)"
   ]
  },
  {
   "cell_type": "raw",
   "metadata": {},
   "source": [
    "print(f'# of call options: {n:,.0f} \\n\\n' \\\n",
    "      f't = 4: % ITM call options = {(n-V[4][V[4]==0].shape[0])/n*100:,.2f}% \\n' \\\n",
    "      f't = 4: % OTM call options = {V[4][V[4]==0].shape[0]/n*100:,.2f}%')"
   ]
  },
  {
   "cell_type": "code",
   "execution_count": 13,
   "metadata": {},
   "outputs": [],
   "source": [
    "# YEAR 3\n",
    "\n",
    "# making an array of indices of the paths where in year 3 S (ITM) > K\n",
    "ind_itm_3y = np.where(paths[3]>K)[0]\n",
    "\n",
    "# selecting S in year 3 where S (ITM) > K\n",
    "S_3y = paths[3][ind_itm_3y]\n",
    "\n",
    "# selecting exercise values in year 3\n",
    "exercise_V_3y = S_3y - K\n",
    "\n",
    "#discounting to year 3 the cash flows in year 4 where S > K\n",
    "disc_V_3y = V[4][ind_itm_3y]*dfs[4][ind_itm_3y]\n",
    "\n",
    "# obtaining values of continuing at year 3\n",
    "#fitted = np.polynomial.polynomial.Polynomial.fit(S_3y, disc_V_3y,2)\n",
    "# out of sample\n",
    "continuation_V_3y = fitted(S_3y)\n",
    "\n",
    "# selecting indices of original paths where exercise_V_3y > continuation_V_3y\n",
    "ind_3y = np.take(ind_itm_3y, np.where(exercise_V_3y > continuation_V_3y))[0]\n",
    "\n",
    "# inserting exercise values in cash flows in year 3 where exercise_V_3y > continuation_V_3y\n",
    "V[3][ind_3y] = exercise_V_3y[np.where(exercise_V_3y > continuation_V_3y)]\n",
    "\n",
    "# inserting zero values in cash flows in year 4 where exercise_V_3y > continuation_V_3y\n",
    "V[4][ind_3y] = 0"
   ]
  },
  {
   "cell_type": "raw",
   "metadata": {},
   "source": [
    "print(f'# of call options: {n:,.0f} \\n\\n' \\\n",
    "      f't = 4: % ITM call options = {(n-V[4][V[4]==0].shape[0])/n*100:,.2f}% \\n' \\\n",
    "      f't = 4: % OTM call options = {V[4][V[4]==0].shape[0]/n*100:,.2f}% \\n\\n' \\\n",
    "      f't = 3: % ITM call options = {(n-V[3][V[3]==0].shape[0])/n*100:,.2f}% \\n' \\\n",
    "      f't = 3: % OTM call options = {V[3][V[3]==0].shape[0]/n*100:,.2f}%')"
   ]
  },
  {
   "cell_type": "code",
   "execution_count": 14,
   "metadata": {},
   "outputs": [],
   "source": [
    "# YEAR 2\n",
    "\n",
    "# making an array of indices of the paths where in year 2 S (ITM) > K\n",
    "ind_itm_2y = np.where(paths[2]>K)[0]\n",
    "\n",
    "# selecting S in year 2 where S (ITM) > K\n",
    "S_2y = paths[2][ind_itm_2y]\n",
    "\n",
    "# selecting exercise values in year 2\n",
    "exercise_V_2y = S_2y - K\n",
    "\n",
    "# discounting to year 2 the cash flows of year 3 where S > K and the cash flows of year 4 where S > K\n",
    "disc_V_2y =  np.maximum(V[3][ind_itm_2y]*dfs[3][ind_itm_2y],\n",
    "                        V[4][ind_itm_2y]*dfs[3][ind_itm_2y]*dfs[4][ind_itm_2y])\n",
    "\n",
    "# obtaining values of continuing at year 2\n",
    "fitted = np.polynomial.polynomial.Polynomial.fit(S_2y, disc_V_2y,2)\n",
    "continuation_V_2y = fitted(S_2y)\n",
    "\n",
    "# selecting indices of original paths where exercise_V_2y > continuation_V_2y\n",
    "ind_2y = np.take(ind_itm_2y, np.where(exercise_V_2y > continuation_V_2y))[0]\n",
    "\n",
    "# inserting exercise values in cash flows in year 2 where exercise_V_2y > continuation_V_2y\n",
    "V[2][ind_2y] = exercise_V_2y[np.where(exercise_V_2y > continuation_V_2y)]\n",
    "\n",
    "# inserting zero values in cash flows in year 3 and year 4 where exercise_V_2y > continuation_V_2y\n",
    "V[3][ind_2y], V[4][ind_2y] = 0, 0"
   ]
  },
  {
   "cell_type": "raw",
   "metadata": {},
   "source": [
    "print(f'# of call options: {n:,.0f} \\n\\n' \\\n",
    "      f't = 4: % ITM call options = {(n-V[4][V[4]==0].shape[0])/n*100:,.2f}% \\n' \\\n",
    "      f't = 4: % OTM call options = {V[4][V[4]==0].shape[0]/n*100:,.2f}% \\n\\n' \\\n",
    "      f't = 3: % ITM call options = {(n-V[3][V[3]==0].shape[0])/n*100:,.2f}% \\n' \\\n",
    "      f't = 3: % OTM call options = {V[3][V[3]==0].shape[0]/n*100:,.2f}% \\n\\n' \\\n",
    "      f't = 2: % ITM call options = {(n-V[2][V[2]==0].shape[0])/n*100:,.2f}% \\n' \\\n",
    "      f't = 2: % OTM call options = {V[2][V[2]==0].shape[0]/n*100:,.2f}%')"
   ]
  },
  {
   "cell_type": "code",
   "execution_count": 15,
   "metadata": {},
   "outputs": [],
   "source": [
    "# YEAR 1\n",
    "\n",
    "# making an array of indices of the paths where in year 1 S (ITM) > K\n",
    "ind_itm_1y = np.where(paths[1] > K)[0]\n",
    "\n",
    "# selecting S in year 1 where S (ITM) > K\n",
    "S_1y = paths[1][ind_itm_1y]\n",
    "\n",
    "# selecting exercise values in year 1\n",
    "exercise_V_1y = S_1y - K\n",
    "\n",
    "# discounting to year 1 the cash flows of year 2 where K > S and the cash flows of year 3 where K > S\n",
    "disc_V_1y =  np.maximum(V[2][ind_itm_1y]*dfs[2][ind_itm_1y],\n",
    "                        V[3][ind_itm_1y]*dfs[2][ind_itm_1y]*dfs[3][ind_itm_1y],\n",
    "                        V[4][ind_itm_1y]*dfs[2][ind_itm_1y]*dfs[3][ind_itm_1y]*dfs[4][ind_itm_1y])\n",
    "\n",
    "# obtaining values of continuing at year 1\n",
    "fitted = np.polynomial.polynomial.Polynomial.fit(S_1y, disc_V_1y,2)\n",
    "continuation_V_1y = fitted(S_1y)\n",
    "\n",
    "# selecting indices of original paths where exercise_V_1y > continuation_V_1y\n",
    "ind_1y = np.take(ind_itm_1y, np.where(exercise_V_1y > continuation_V_1y))[0]\n",
    "\n",
    "# inserting exercise values in cash flows in year 1 where exercise_V_1y > continuation_V_1y\n",
    "V[1][ind_1y] = exercise_V_1y[np.where(exercise_V_1y > continuation_V_1y)]\n",
    "\n",
    "# inserting zero values in cash flows in year 2 and year 3 where exercise_V_1y > continuation_V_1y\n",
    "V[2][ind_1y], V[3][ind_1y], V[4][ind_1y] = 0, 0, 0"
   ]
  },
  {
   "cell_type": "code",
   "execution_count": 16,
   "metadata": {},
   "outputs": [
    {
     "name": "stdout",
     "output_type": "stream",
     "text": [
      "# of call options: 1,000,000 \n",
      "\n",
      "t = 4: % ITM call options = 3.19% \n",
      "t = 4: % OTM call options = 96.81% \n",
      "\n",
      "t = 3: % ITM call options = 27.53% \n",
      "t = 3: % OTM call options = 72.47% \n",
      "\n",
      "t = 2: % ITM call options = 26.51% \n",
      "t = 2: % OTM call options = 73.49% \n",
      "\n",
      "t = 1: % ITM call options = 14.40% \n",
      "t = 1: % OTM call options = 85.60%\n"
     ]
    }
   ],
   "source": [
    "print(f'# of call options: {n:,.0f} \\n\\n' \\\n",
    "      f't = 4: % ITM call options = {(n-V[4][V[4]==0].shape[0])/n*100:,.2f}% \\n' \\\n",
    "      f't = 4: % OTM call options = {V[4][V[4]==0].shape[0]/n*100:,.2f}% \\n\\n' \\\n",
    "      f't = 3: % ITM call options = {(n-V[3][V[3]==0].shape[0])/n*100:,.2f}% \\n' \\\n",
    "      f't = 3: % OTM call options = {V[3][V[3]==0].shape[0]/n*100:,.2f}% \\n\\n' \\\n",
    "      f't = 2: % ITM call options = {(n-V[2][V[2]==0].shape[0])/n*100:,.2f}% \\n' \\\n",
    "      f't = 2: % OTM call options = {V[2][V[2]==0].shape[0]/n*100:,.2f}% \\n\\n' \\\n",
    "      f't = 1: % ITM call options = {(n-V[1][V[1]==0].shape[0])/n*100:,.2f}% \\n' \\\n",
    "      f't = 1: % OTM call options = {V[1][V[1]==0].shape[0]/n*100:,.2f}%')"
   ]
  },
  {
   "cell_type": "code",
   "execution_count": 17,
   "metadata": {},
   "outputs": [],
   "source": [
    "# discounting values to year 0\n",
    "dfs_cum = np.array([np.cumprod(i) for i in dfs[1:].T]).T\n",
    "disc_V = V.copy()*dfs_cum\n",
    "\n",
    "# calculating the price and standard error\n",
    "c = np.sum([max(i) for i in disc_V.T])/n\n",
    "c2 = np.sum([max(i)**2 for i in disc_V.T])/n\n",
    "std_err = np.sqrt((c2-c**2)/n)\n",
    "call_bond = bond(0,curve0)-c"
   ]
  },
  {
   "cell_type": "code",
   "execution_count": 23,
   "metadata": {},
   "outputs": [
    {
     "name": "stdout",
     "output_type": "stream",
     "text": [
      "The Bermudan call option price is: 1.1147055590. The standard error is: 0.0010770340. \n",
      "The bond price at t=0: 101.1849579254. The callable bond price at t=0: 100.0702523664.\n"
     ]
    }
   ],
   "source": [
    "print(f'The Bermudan call option price is: {c:.10f}. The standard error is: {std_err:.10f}. \\n' \\\n",
    "      f'The bond price at t=0: {bond(0,curve0):.10f}. The callable bond price at t=0: {call_bond:.10f}.')"
   ]
  },
  {
   "cell_type": "code",
   "execution_count": 19,
   "metadata": {},
   "outputs": [],
   "source": [
    "bondprices = np.around([np.mean(paths[0]), np.mean(paths[1]), np.mean(paths[2]), np.mean(paths[3]), np.mean(paths[4])],2)"
   ]
  },
  {
   "cell_type": "code",
   "execution_count": 20,
   "metadata": {},
   "outputs": [
    {
     "name": "stdout",
     "output_type": "stream",
     "text": [
      "[101.12 101.47 101.64 101.04]\n"
     ]
    }
   ],
   "source": [
    "#print(np.array(y_curve)*100) # zero curve\n",
    "#print(np.around(np.array(curve0)*100,2)) # forward curve\n",
    "#print(np.array(C)*100) # coupon curve\n",
    "print(bondprices[1:]) # bond prices"
   ]
  },
  {
   "cell_type": "code",
   "execution_count": 21,
   "metadata": {},
   "outputs": [
    {
     "name": "stdout",
     "output_type": "stream",
     "text": [
      "[14.4  26.51 27.53  3.19]\n"
     ]
    }
   ],
   "source": [
    "t4 = (n-V[4][V[4]==0].shape[0])/n*100 # t=4\n",
    "t3 = (n-V[3][V[3]==0].shape[0])/n*100 # t=3\n",
    "t2 = (n-V[2][V[2]==0].shape[0])/n*100 # t=2\n",
    "t1 = (n-V[1][V[1]==0].shape[0])/n*100 # t=1\n",
    "t_lst = [t1,t2,t3,t4]\n",
    "print(np.around(t_lst,2))"
   ]
  },
  {
   "cell_type": "code",
   "execution_count": 22,
   "metadata": {},
   "outputs": [
    {
     "data": {
      "image/png": "[encoded data removed]",
      "text/plain": [
       "<Figure size 432x288 with 1 Axes>"
      ]
     },
     "metadata": {},
     "output_type": "display_data"
    }
   ],
   "source": [
    "a=plt.figure(figsize = [6, 4])\n",
    "plt.bar(range(1,5), t_lst)\n",
    "plt.xticks(range(1,5))\n",
    "#plt.title('Probability Distribution of Surviving ')\n",
    "plt.xlabel('Years')\n",
    "plt.ylabel('Probability, %')\n",
    "\n",
    "for i in range(len(t_lst)):\n",
    "    plt.annotate(str(np.round(t_lst[i],2))+'%', xy=(x[i],t_lst[i]), ha='center', va='bottom')"
   ]
  },
  {
   "cell_type": "raw",
   "metadata": {},
   "source": [
    "#a.savefig(\"P Cont.pdf\", bbox_inches='tight')\n",
    "#a.savefig(\"P Backw.pdf\", bbox_inches='tight')\n",
    "a.savefig(\"P flat.pdf\", bbox_inches='tight')"
   ]
  },
  {
   "cell_type": "raw",
   "metadata": {},
   "source": [
    "plt.plot(x,bondprices, marker='o',markersize=5)\n",
    "plt.xticks(x)\n",
    "\n",
    "for i in range(len(bondprices)):\n",
    "    plt.annotate(str(np.round(bondprices[i],+1))+'%', xy=(x[i],bondprices[i]), ha='center', va='bottom')"
   ]
  },
  {
   "cell_type": "code",
   "execution_count": null,
   "metadata": {},
   "outputs": [],
   "source": []
  }
 ],
 "metadata": {
  "kernelspec": {
   "display_name": "Python 3",
   "language": "python",
   "name": "python3"
  },
  "language_info": {
   "codemirror_mode": {
    "name": "ipython",
    "version": 3
   },
   "file_extension": ".py",
   "mimetype": "text/x-python",
   "name": "python",
   "nbconvert_exporter": "python",
   "pygments_lexer": "ipython3",
   "version": "3.7.4"
  }
 },
 "nbformat": 4,
 "nbformat_minor": 4
}
